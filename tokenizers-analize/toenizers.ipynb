{
 "cells": [
  {
   "cell_type": "markdown",
   "metadata": {},
   "source": [
    "# Анализ токенизаторов по количеству токенов в тексте\n"
   ]
  },
  {
   "cell_type": "markdown",
   "metadata": {
    "vscode": {
     "languageId": "plaintext"
    }
   },
   "source": [
    "## claude-3.5-sonnet"
   ]
  },
  {
   "cell_type": "code",
   "execution_count": 1,
   "metadata": {},
   "outputs": [
    {
     "data": {
      "text/plain": [
       "True"
      ]
     },
     "execution_count": 1,
     "metadata": {},
     "output_type": "execute_result"
    }
   ],
   "source": [
    "from os import getenv\n",
    "from dotenv import load_dotenv\n",
    "load_dotenv(\"../.env\")\n"
   ]
  },
  {
   "cell_type": "code",
   "execution_count": null,
   "metadata": {},
   "outputs": [],
   "source": [
    "def get_chat_completion_parse(\n",
    "    base_url: str,\n",
    "    api_key: str,\n",
    "    model: str,\n",
    "    temperature: float = 0.3,\n",
    "    messages: Optional[list[Prompt]] = None,\n",
    "    max_tokens: int = 4096,\n",
    ") -> str:\n",
    "    \"\"\"Выполняет запрос к языковой модели\n",
    "\n",
    "    Args:\n",
    "        url (str): базовый URL API\n",
    "        api_key (str): ключ API\n",
    "        model (str): идентификатор модели\n",
    "        temperature (float, optional): параметр температуры. Defaults to 0.5.\n",
    "        messages (Optional[list[Prompt]], optional): список сообщений. Defaults to None.\n",
    "        max_tokens (int, optional): максимальное количество токенов. Defaults to 1500.\n",
    "\n",
    "    Returns:\n",
    "        str: ответ модели\n",
    "    \"\"\"\n",
    "    client = OpenAI(api_key=api_key, base_url=base_url)\n",
    "    try:\n",
    "        completion = client.beta.chat.completions.parse(\n",
    "            model=model,\n",
    "            messages=messages,\n",
    "            response_format=Companies,\n",
    "            temperature=temperature,\n",
    "            max_tokens=max_tokens,\n",
    "            frequency_penalty=0.9,\n",
    "        )\n",
    "        event = completion.choices[0].message.parsed\n",
    "        return event.names\n",
    "    except Exception:\n",
    "        return []\n",
    "    # except pydantic.ValidationError as e:\n",
    "    #     return []\n",
    "    # except AttributeError as e:\n",
    "    #     return []\n",
    "    # except TypeError as e:\n",
    "    #     return []"
   ]
  },
  {
   "cell_type": "code",
   "execution_count": null,
   "metadata": {},
   "outputs": [],
   "source": [
    "def tokens_count(model)"
   ]
  },
  {
   "cell_type": "code",
   "execution_count": 26,
   "metadata": {},
   "outputs": [
    {
     "data": {
      "text/plain": [
       "CompletionUsage(completion_tokens=34, prompt_tokens=23, total_tokens=57, completion_tokens_details=None, prompt_tokens_details=None)"
      ]
     },
     "execution_count": 26,
     "metadata": {},
     "output_type": "execute_result"
    }
   ],
   "source": [
    "completion.usage"
   ]
  },
  {
   "cell_type": "code",
   "execution_count": 27,
   "metadata": {},
   "outputs": [],
   "source": [
    "input_tokens = completion.usage.prompt_tokens\n",
    "output_tokens = completion.usage.completion_tokens"
   ]
  }
 ],
 "metadata": {
  "kernelspec": {
   "display_name": ".venv",
   "language": "python",
   "name": "python3"
  },
  "language_info": {
   "codemirror_mode": {
    "name": "ipython",
    "version": 3
   },
   "file_extension": ".py",
   "mimetype": "text/x-python",
   "name": "python",
   "nbconvert_exporter": "python",
   "pygments_lexer": "ipython3",
   "version": "3.10.11"
  }
 },
 "nbformat": 4,
 "nbformat_minor": 2
}
